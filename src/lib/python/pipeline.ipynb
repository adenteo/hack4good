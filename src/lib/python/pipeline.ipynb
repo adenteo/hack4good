{
 "cells": [
  {
   "cell_type": "code",
   "execution_count": 24,
   "metadata": {},
   "outputs": [],
   "source": [
    "import pandas as pd\n",
    "from datetime import datetime\n"
   ]
  },
  {
   "cell_type": "code",
   "execution_count": 27,
   "metadata": {},
   "outputs": [],
   "source": [
    "df = pd.read_csv('activity.csv')\n",
    "postal = pd.read_csv('SG_postal.csv')\n",
    "activity_df = df.merge(postal, left_on='postalCode', right_on='postal_code', how='left')"
   ]
  },
  {
   "cell_type": "code",
   "execution_count": 28,
   "metadata": {},
   "outputs": [],
   "source": [
    "# Ensure 'startTime' is a datetime column\n",
    "activity_df['startTime'] = pd.to_datetime(activity_df['startTime'])\n",
    "\n",
    "# Extract year and month from 'startTime'\n",
    "activity_df['year'] = activity_df['startTime'].dt.year\n",
    "activity_df['month'] = activity_df['startTime'].dt.month\n",
    "\n",
    "# Convert 'tags' list to string and get dummies\n",
    "tags_dummies = activity_df['tags'].str.get_dummies(sep=',')\n",
    "\n",
    "# Convert boolean columns to integer type\n",
    "activity_df['drivingLicence'] = activity_df['drivingLicence'].astype(int)\n",
    "activity_df['pwdTrained'] = activity_df['pwdTrained'].astype(int)\n",
    "\n",
    "# Get dummies for categorical columns\n",
    "citizenship_dummies = pd.get_dummies(activity_df['citizenshipType'], prefix='citizenship')\n",
    "employment_dummies = pd.get_dummies(activity_df['employmentStatus'], prefix='employment')\n",
    "gender_dummies = pd.get_dummies(activity_df['gender'], prefix='gender')\n",
    "\n",
    "current_year = pd.Timestamp('now').year\n",
    "activity_df['dateOfBirth'] = pd.to_datetime(activity_df['dateOfBirth'])\n",
    "activity_df['age'] = current_year - activity_df['dateOfBirth'].dt.year\n",
    "\n",
    "# Group age into categories and get dummies\n",
    "bins = [0, 12, 21, 50, 65, float('inf')]\n",
    "labels = ['under12', 'under21', 'under50', 'under65', 'over65']\n",
    "activity_df['ageGroup'] = pd.cut(activity_df['age'], bins=bins, labels=labels, right=False)\n",
    "age_group_dummies = pd.get_dummies(activity_df['ageGroup'])\n",
    "\n",
    "# Concatenate all dummies and the original DataFrame (excluding original categorical columns)\n",
    "final_df = pd.concat([\n",
    "    activity_df.drop(['tags', 'citizenshipType', 'employmentStatus', 'gender', 'age', 'ageGroup'], axis=1),\n",
    "    tags_dummies, citizenship_dummies, employment_dummies, gender_dummies, age_group_dummies\n",
    "], axis=1)\n",
    "\n",
    "# Group by year and month, and sum the numHours and other one-hot encoded columns\n",
    "monthly_summary = final_df.groupby(['year', 'month']).agg({\n",
    "    'numHours': 'sum',  # Sum numHours for total hours per month\n",
    "    **{col: 'sum' for col in tags_dummies.columns},  # Sum for each tag column\n",
    "    'drivingLicence': 'sum',\n",
    "    'pwdTrained': 'sum',\n",
    "    **{col: 'sum' for col in citizenship_dummies.columns},  # Sum for each citizenship status\n",
    "    **{col: 'sum' for col in employment_dummies.columns},  # Sum for each employment status\n",
    "    **{col: 'sum' for col in gender_dummies.columns},  # Sum for each gender\n",
    "    **{col: 'sum' for col in age_group_dummies.columns},  # Sum for each age group\n",
    "}).reset_index()"
   ]
  },
  {
   "cell_type": "code",
   "execution_count": 29,
   "metadata": {},
   "outputs": [],
   "source": [
    "# Save to CSV\n",
    "monthly_summary.to_csv('monthly_summary.csv', index=False)"
   ]
  }
 ],
 "metadata": {
  "kernelspec": {
   "display_name": "Python 3",
   "language": "python",
   "name": "python3"
  },
  "language_info": {
   "codemirror_mode": {
    "name": "ipython",
    "version": 3
   },
   "file_extension": ".py",
   "mimetype": "text/x-python",
   "name": "python",
   "nbconvert_exporter": "python",
   "pygments_lexer": "ipython3",
   "version": "3.11.4"
  }
 },
 "nbformat": 4,
 "nbformat_minor": 2
}
